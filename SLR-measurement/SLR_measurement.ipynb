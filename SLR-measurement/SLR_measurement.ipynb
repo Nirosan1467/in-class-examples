{
 "cells": [
  {
   "cell_type": "markdown",
   "metadata": {},
   "source": [
    "## Introduction\n",
    "\n",
    "This in-class example demonstrates how your data analysis can change due to different fuctional forms.\n",
    "\n",
    "What you need to know:  \n",
    "- Statsmodels and pandas modules in python\n",
    "- Theoretical concepts on statistical moments\n",
    "- Theoretical concepts on simple linear regression model\n",
    "\n",
    "The list of [references](#References) for detailed concepts and techniques used in this exerise.\n",
    "***\n",
    "\n",
    "## Content\n",
    "- [Load the required modules](#Load-the-required-modules)\n",
    "- [Data check and summary statistics](#Data-check-and-summary-statistics)\n",
    "- [Simple Linear Regression Model](#Simple-Linear-Regression-Model) \n",
    "- [References](#References)"
   ]
  },
  {
   "cell_type": "markdown",
   "metadata": {},
   "source": [
    "***\n",
    "## Data Description\n",
    "\n",
    "The data set is contained in a comma-separated value (csv) file named ```hprice1.csv``` with column headers. \n",
    "\n",
    "Description of the data is as follow:\n",
    "\n",
    "| Name | Description |\n",
    "| :--- | :--- |\n",
    "| price    | house price, \\$1000s |\n",
    "| assess   | assessed value, \\$1000s |\n",
    "| bdrms    | number of bdrms |\n",
    "| lotsize  | size of lot in square feet |\n",
    "| sqrft    | size of house in square feet |\n",
    "| colonial | =1 if home is colonial style |\n",
    "| lprice   | log(price) |\n",
    "| lassess  | log(assess) |\n",
    "| llotsize | log(lotsize) |\n",
    "| lsqrft   | log(sqrft) |"
   ]
  },
  {
   "cell_type": "markdown",
   "metadata": {},
   "source": [
    "***\n",
    "## Load the required modules"
   ]
  },
  {
   "cell_type": "code",
   "execution_count": 1,
   "metadata": {
    "execution": {
     "iopub.execute_input": "2025-02-21T05:47:18.031376Z",
     "iopub.status.busy": "2025-02-21T05:47:18.031185Z",
     "iopub.status.idle": "2025-02-21T05:47:18.889880Z",
     "shell.execute_reply": "2025-02-21T05:47:18.889255Z"
    }
   },
   "outputs": [],
   "source": [
    "import math\n",
    "import numpy as np\n",
    "import pandas as pd\n",
    "import statsmodels\n",
    "import statsmodels.api as sm\n",
    "import statsmodels.formula.api as smf"
   ]
  },
  {
   "cell_type": "markdown",
   "metadata": {},
   "source": [
    "***\n",
    "## Data-check-and-summary-statistics"
   ]
  },
  {
   "cell_type": "markdown",
   "metadata": {},
   "source": [
    "#### Load the data set\n",
    "The data set is contained in a comma-separated value (csv) file named \"*hprice1*\" with column header. "
   ]
  },
  {
   "cell_type": "code",
   "execution_count": null,
   "metadata": {},
   "outputs": [],
   "source": []
  },
  {
   "cell_type": "markdown",
   "metadata": {},
   "source": [
    "#### Check if the data is properly imported"
   ]
  },
  {
   "cell_type": "code",
   "execution_count": null,
   "metadata": {},
   "outputs": [],
   "source": []
  },
  {
   "cell_type": "markdown",
   "metadata": {},
   "source": [
    "#### Get statistical moments"
   ]
  },
  {
   "cell_type": "code",
   "execution_count": null,
   "metadata": {},
   "outputs": [],
   "source": []
  },
  {
   "cell_type": "markdown",
   "metadata": {},
   "source": [
    "#### Create a new column named ``lsqrft_copy`` for $log(sqrft)$\n",
    "Your result should look identical to the column ``lsqrft``"
   ]
  },
  {
   "cell_type": "code",
   "execution_count": null,
   "metadata": {},
   "outputs": [],
   "source": []
  },
  {
   "cell_type": "markdown",
   "metadata": {},
   "source": [
    "#### Create a scatter plot to visualize the relationship between price and sqrft"
   ]
  },
  {
   "cell_type": "code",
   "execution_count": null,
   "metadata": {},
   "outputs": [],
   "source": []
  },
  {
   "cell_type": "markdown",
   "metadata": {},
   "source": [
    "#### Create a scatter plot to visualize the relationship between log(price) and log(sqrft)"
   ]
  },
  {
   "cell_type": "code",
   "execution_count": null,
   "metadata": {},
   "outputs": [],
   "source": []
  },
  {
   "cell_type": "markdown",
   "metadata": {},
   "source": [
    "***\n",
    "## Simple Linear Regression Model on levels"
   ]
  },
  {
   "cell_type": "markdown",
   "metadata": {},
   "source": [
    "#### Model Estimation by the Ordinary Least Square (OLS) method\n",
    "\n",
    "The model **on levels** is specified as $$price = \\beta_0 + \\beta_1 sqrft + u,$$\n",
    "where price is the house price measured in thousands of dollars."
   ]
  },
  {
   "cell_type": "code",
   "execution_count": null,
   "metadata": {},
   "outputs": [],
   "source": []
  },
  {
   "cell_type": "markdown",
   "metadata": {},
   "source": [
    "#### Get the estimation results"
   ]
  },
  {
   "cell_type": "code",
   "execution_count": null,
   "metadata": {},
   "outputs": [],
   "source": []
  },
  {
   "cell_type": "markdown",
   "metadata": {},
   "source": [
    "#### How would you interpret the $\\beta_1$ estimate?"
   ]
  },
  {
   "cell_type": "markdown",
   "metadata": {},
   "source": []
  },
  {
   "cell_type": "markdown",
   "metadata": {},
   "source": [
    "#### What percentage of the variation in price is explained by square footage?"
   ]
  },
  {
   "cell_type": "markdown",
   "metadata": {},
   "source": []
  },
  {
   "cell_type": "markdown",
   "metadata": {},
   "source": [
    "***\n",
    "## Simple Linear Regression Model"
   ]
  },
  {
   "cell_type": "markdown",
   "metadata": {},
   "source": [
    "#### Model Estimation by the Ordinary Least Square (OLS) method\n",
    "\n",
    "The **log-log model** is specified as $$log(price) = \\beta_0 + \\beta_1 log(sqrft) + u,$$\n",
    "where $log(\\cdot)$ is the natural log of variables."
   ]
  },
  {
   "cell_type": "code",
   "execution_count": null,
   "metadata": {},
   "outputs": [],
   "source": []
  },
  {
   "cell_type": "markdown",
   "metadata": {},
   "source": [
    "#### Get the estimation results"
   ]
  },
  {
   "cell_type": "code",
   "execution_count": null,
   "metadata": {},
   "outputs": [],
   "source": []
  },
  {
   "cell_type": "markdown",
   "metadata": {},
   "source": [
    "#### How would you interpret the $\\beta_1$ estimate?"
   ]
  },
  {
   "cell_type": "markdown",
   "metadata": {},
   "source": []
  },
  {
   "cell_type": "markdown",
   "metadata": {},
   "source": [
    "#### What percentage of the variation in log(price) is explained by log(square footage)?"
   ]
  },
  {
   "cell_type": "markdown",
   "metadata": {},
   "source": []
  },
  {
   "cell_type": "markdown",
   "metadata": {},
   "source": [
    "#### Compared to the model on levels, which one performs better?"
   ]
  },
  {
   "cell_type": "markdown",
   "metadata": {},
   "source": []
  },
  {
   "cell_type": "markdown",
   "metadata": {},
   "source": [
    "***"
   ]
  },
  {
   "cell_type": "markdown",
   "metadata": {},
   "source": [
    "## References\n",
    "\n",
    "- Jeffrey M. Wooldridge (2019) \"Introductory Econometrics: A Modern Approach, 7e\" Chapter 2.\n",
    "\n",
    "- The pandas development team (2020). \"[pandas-dev/pandas: Pandas](https://pandas.pydata.org/).\" Zenodo.\n",
    "    \n",
    "- Seabold, Skipper, and Josef Perktold (2010). \"[statsmodels: Econometric and statistical modeling with python](https://www.statsmodels.org/stable/examples/notebooks/generated/ols.html).\" Proceedings of the 9th Python in Science Conference."
   ]
  }
 ],
 "metadata": {
  "kernelspec": {
   "display_name": "Python 3",
   "language": "python",
   "name": "python3"
  },
  "language_info": {
   "codemirror_mode": {
    "name": "ipython",
    "version": 3
   },
   "file_extension": ".py",
   "mimetype": "text/x-python",
   "name": "python",
   "nbconvert_exporter": "python",
   "pygments_lexer": "ipython3",
   "version": "3.13.1"
  }
 },
 "nbformat": 4,
 "nbformat_minor": 4
}
