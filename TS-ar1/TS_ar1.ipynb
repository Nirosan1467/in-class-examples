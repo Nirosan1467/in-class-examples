{
 "cells": [
  {
   "cell_type": "markdown",
   "metadata": {},
   "source": [
    "## Introduction\n",
    "\n",
    "This in-class example demonstrates how to handle time trend, seasonality, and autoregressive processes.\n",
    "\n",
    "What you need to know:\n",
    "- Statsmodels and pandas modules in python\n",
    "- Theoretical concepts on time series regression model\n",
    "\n",
    "The list of [references](#References) for detailed concepts and techniques used in this exerise.\n",
    "***\n",
    "\n",
    "## Content\n",
    "- [Time trend and seasonality](#Time-Trend-and-Seasonality)\n",
    "- [Autoregressive process of order 1](#Autoregressive-Process-of-Order-1)\n",
    "- [Complete model with other exogenous regressors](#Complete-Model-with-other-Exogenous-Regressors)\n",
    "- [References](#References)\n"
   ]
  },
  {
   "cell_type": "markdown",
   "metadata": {},
   "source": [
    "***\n",
    "## Data Description\n",
    "\n",
    "The data set is contained in a comma-separated value (csv) file named ```CDN_hprice.csv``` with column headers. \n",
    "\n",
    "The data is a set of quarterly observations on a housing price index and other relevant variables in Canada for 1976 through 2019.\n",
    "\n",
    "This data set is obtained from [Federal Reserve Bank of Dallas's International House Price Database](https://www.dallasfed.org/institute/houseprice).\n",
    "\n",
    "Description of the data is as follow:\n",
    "\n",
    "| Variable name | Variable description |\n",
    "| -- | ----------- |\n",
    "| Year      | Year |\n",
    "| Quarter   | Quarter |\n",
    "| RHPI      | House Price Index (real) |\n",
    "| RPDI      | Personal disposable income (real) |\n",
    "| logRHPI   | log(RHPI)   |\n",
    "| logRPDI   | log(RPDI)   |\n",
    "| UE        | Unemployment rate (in percentage points) |\n",
    "| CPI       | Consumer Price Index |\n",
    "| TB10_rt   | 10-year treasury bond rate (nominal) |\n",
    "| RTB10_rt  | 10-year Treasury Bond rate (real) |\n"
   ]
  },
  {
   "cell_type": "markdown",
   "metadata": {},
   "source": [
    "***\n",
    "## Load the required modules"
   ]
  },
  {
   "cell_type": "code",
   "execution_count": 160,
   "metadata": {
    "execution": {
     "iopub.execute_input": "2025-02-21T05:47:33.202297Z",
     "iopub.status.busy": "2025-02-21T05:47:33.202106Z",
     "iopub.status.idle": "2025-02-21T05:47:34.353678Z",
     "shell.execute_reply": "2025-02-21T05:47:34.353096Z"
    }
   },
   "outputs": [],
   "source": [
    "import numpy as np\n",
    "import pandas as pd\n",
    "import statsmodels\n",
    "import statsmodels.api as sm\n",
    "import statsmodels.formula.api as smf\n",
    "import matplotlib.pyplot"
   ]
  },
  {
   "cell_type": "markdown",
   "metadata": {},
   "source": [
    "***\n",
    "## Import the data set\n",
    "\n",
    "#### Load the data set into Python"
   ]
  },
  {
   "cell_type": "code",
   "execution_count": 161,
   "metadata": {},
   "outputs": [
    {
     "data": {
      "text/html": [
       "<div>\n",
       "<style scoped>\n",
       "    .dataframe tbody tr th:only-of-type {\n",
       "        vertical-align: middle;\n",
       "    }\n",
       "\n",
       "    .dataframe tbody tr th {\n",
       "        vertical-align: top;\n",
       "    }\n",
       "\n",
       "    .dataframe thead th {\n",
       "        text-align: right;\n",
       "    }\n",
       "</style>\n",
       "<table border=\"1\" class=\"dataframe\">\n",
       "  <thead>\n",
       "    <tr style=\"text-align: right;\">\n",
       "      <th></th>\n",
       "      <th>Year</th>\n",
       "      <th>Quarter</th>\n",
       "      <th>RHPI</th>\n",
       "      <th>RPDI</th>\n",
       "      <th>RTB10_rt</th>\n",
       "      <th>CPI</th>\n",
       "      <th>TB10_rt</th>\n",
       "      <th>UE</th>\n",
       "      <th>logRHPI</th>\n",
       "      <th>logRPDI</th>\n",
       "    </tr>\n",
       "  </thead>\n",
       "  <tbody>\n",
       "    <tr>\n",
       "      <th>0</th>\n",
       "      <td>1976</td>\n",
       "      <td>Q1</td>\n",
       "      <td>58.98</td>\n",
       "      <td>74.11</td>\n",
       "      <td>0.835</td>\n",
       "      <td>24.414</td>\n",
       "      <td>9.327</td>\n",
       "      <td>6.867</td>\n",
       "      <td>4.0772</td>\n",
       "      <td>4.3056</td>\n",
       "    </tr>\n",
       "    <tr>\n",
       "      <th>1</th>\n",
       "      <td>1976</td>\n",
       "      <td>Q2</td>\n",
       "      <td>59.81</td>\n",
       "      <td>75.93</td>\n",
       "      <td>2.535</td>\n",
       "      <td>24.783</td>\n",
       "      <td>9.270</td>\n",
       "      <td>7.167</td>\n",
       "      <td>4.0912</td>\n",
       "      <td>4.3298</td>\n",
       "    </tr>\n",
       "    <tr>\n",
       "      <th>2</th>\n",
       "      <td>1976</td>\n",
       "      <td>Q3</td>\n",
       "      <td>58.82</td>\n",
       "      <td>73.23</td>\n",
       "      <td>2.885</td>\n",
       "      <td>25.125</td>\n",
       "      <td>8.937</td>\n",
       "      <td>7.367</td>\n",
       "      <td>4.0745</td>\n",
       "      <td>4.2936</td>\n",
       "    </tr>\n",
       "    <tr>\n",
       "      <th>3</th>\n",
       "      <td>1976</td>\n",
       "      <td>Q4</td>\n",
       "      <td>57.63</td>\n",
       "      <td>75.18</td>\n",
       "      <td>1.919</td>\n",
       "      <td>25.652</td>\n",
       "      <td>8.610</td>\n",
       "      <td>7.733</td>\n",
       "      <td>4.0540</td>\n",
       "      <td>4.3199</td>\n",
       "    </tr>\n",
       "    <tr>\n",
       "      <th>4</th>\n",
       "      <td>1977</td>\n",
       "      <td>Q1</td>\n",
       "      <td>55.78</td>\n",
       "      <td>74.07</td>\n",
       "      <td>0.943</td>\n",
       "      <td>26.310</td>\n",
       "      <td>8.783</td>\n",
       "      <td>7.867</td>\n",
       "      <td>4.0214</td>\n",
       "      <td>4.3050</td>\n",
       "    </tr>\n",
       "  </tbody>\n",
       "</table>\n",
       "</div>"
      ],
      "text/plain": [
       "   Year Quarter   RHPI   RPDI  RTB10_rt     CPI  TB10_rt     UE  logRHPI  \\\n",
       "0  1976      Q1  58.98  74.11     0.835  24.414    9.327  6.867   4.0772   \n",
       "1  1976      Q2  59.81  75.93     2.535  24.783    9.270  7.167   4.0912   \n",
       "2  1976      Q3  58.82  73.23     2.885  25.125    8.937  7.367   4.0745   \n",
       "3  1976      Q4  57.63  75.18     1.919  25.652    8.610  7.733   4.0540   \n",
       "4  1977      Q1  55.78  74.07     0.943  26.310    8.783  7.867   4.0214   \n",
       "\n",
       "   logRPDI  \n",
       "0   4.3056  \n",
       "1   4.3298  \n",
       "2   4.2936  \n",
       "3   4.3199  \n",
       "4   4.3050  "
      ]
     },
     "execution_count": 161,
     "metadata": {},
     "output_type": "execute_result"
    }
   ],
   "source": [
    "hprice = pd.read_csv(\"CDN_hprice.csv\")\n",
    "hprice.head()"
   ]
  },
  {
   "cell_type": "markdown",
   "metadata": {},
   "source": [
    "***\n",
    "## Data preparation\n",
    "\n",
    "#### 1.1 Sort the data in ascending order by year and quarter"
   ]
  },
  {
   "cell_type": "code",
   "execution_count": 162,
   "metadata": {},
   "outputs": [
    {
     "name": "stdout",
     "output_type": "stream",
     "text": [
      "   Year Quarter   RHPI   RPDI  RTB10_rt     CPI  TB10_rt     UE  logRHPI  \\\n",
      "0  1976      Q1  58.98  74.11     0.835  24.414    9.327  6.867   4.0772   \n",
      "1  1976      Q2  59.81  75.93     2.535  24.783    9.270  7.167   4.0912   \n",
      "2  1976      Q3  58.82  73.23     2.885  25.125    8.937  7.367   4.0745   \n",
      "3  1976      Q4  57.63  75.18     1.919  25.652    8.610  7.733   4.0540   \n",
      "4  1977      Q1  55.78  74.07     0.943  26.310    8.783  7.867   4.0214   \n",
      "\n",
      "   logRPDI  \n",
      "0   4.3056  \n",
      "1   4.3298  \n",
      "2   4.2936  \n",
      "3   4.3199  \n",
      "4   4.3050  \n"
     ]
    }
   ],
   "source": [
    "hprice = hprice.sort_values(by = [\"Year\",\"Quarter\"])\n",
    "print(hprice.head())"
   ]
  },
  {
   "cell_type": "markdown",
   "metadata": {},
   "source": [
    "#### 1.2 Generate time index\n",
    "\n",
    "Create new variable ```t``` such that $t=0$ in the first period. \n",
    "\n",
    "Note that we have repeated year and quarters. You can create the the required index by:\n",
    "1. Sorting the observations in ascending order, as you are asked to do in (1.1)\n",
    "2. Add a new column using the ```df.index``` method, where ```df``` is the name of the pandas dataframe"
   ]
  },
  {
   "cell_type": "code",
   "execution_count": 163,
   "metadata": {},
   "outputs": [
    {
     "name": "stdout",
     "output_type": "stream",
     "text": [
      "   Year Quarter   RHPI   RPDI  RTB10_rt     CPI  TB10_rt     UE  logRHPI  \\\n",
      "0  1976      Q1  58.98  74.11     0.835  24.414    9.327  6.867   4.0772   \n",
      "1  1976      Q2  59.81  75.93     2.535  24.783    9.270  7.167   4.0912   \n",
      "2  1976      Q3  58.82  73.23     2.885  25.125    8.937  7.367   4.0745   \n",
      "3  1976      Q4  57.63  75.18     1.919  25.652    8.610  7.733   4.0540   \n",
      "4  1977      Q1  55.78  74.07     0.943  26.310    8.783  7.867   4.0214   \n",
      "\n",
      "   logRPDI  t  \n",
      "0   4.3056  0  \n",
      "1   4.3298  1  \n",
      "2   4.2936  2  \n",
      "3   4.3199  3  \n",
      "4   4.3050  4  \n"
     ]
    }
   ],
   "source": [
    "hprice[\"t\"] = hprice.index\n",
    "\n",
    "print(hprice.head())"
   ]
  },
  {
   "cell_type": "markdown",
   "metadata": {},
   "source": [
    "#### 1.3 Generate lag variable\n",
    "\n",
    "Here we create lag variables with a lag of **4** period. That is, in quarterly frequency, the lag variable is in the *same* quarter but *different* year.\n",
    "\n",
    "Create a new column in the date set named ```logRHPI_4```, such that $\\text{logRHPI}\\_4 = \\log(\\textit{RHPI}_{t-4})$ "
   ]
  },
  {
   "cell_type": "code",
   "execution_count": 164,
   "metadata": {},
   "outputs": [
    {
     "name": "stdout",
     "output_type": "stream",
     "text": [
      "   Year Quarter   RHPI   RPDI  RTB10_rt     CPI  TB10_rt     UE  logRHPI  \\\n",
      "0  1976      Q1  58.98  74.11     0.835  24.414    9.327  6.867   4.0772   \n",
      "1  1976      Q2  59.81  75.93     2.535  24.783    9.270  7.167   4.0912   \n",
      "2  1976      Q3  58.82  73.23     2.885  25.125    8.937  7.367   4.0745   \n",
      "3  1976      Q4  57.63  75.18     1.919  25.652    8.610  7.733   4.0540   \n",
      "4  1977      Q1  55.78  74.07     0.943  26.310    8.783  7.867   4.0214   \n",
      "5  1977      Q2  55.20  75.11     0.238  26.863    8.653  8.233   4.0110   \n",
      "\n",
      "   logRPDI  t  logRHPI_4  \n",
      "0   4.3056  0        NaN  \n",
      "1   4.3298  1        NaN  \n",
      "2   4.2936  2        NaN  \n",
      "3   4.3199  3        NaN  \n",
      "4   4.3050  4     4.0772  \n",
      "5   4.3190  5     4.0912  \n"
     ]
    }
   ],
   "source": [
    "hprice[\"logRHPI_4\"] = hprice[\"logRHPI\"].shift(4)\n",
    "print(hprice.head(6))"
   ]
  },
  {
   "cell_type": "markdown",
   "metadata": {},
   "source": [
    "Create a new column in the date set named ```logRPDI_4```, such that $\\text{logRPDI}\\_4 = \\log(\\textit{RPDI}_{t-4})$ "
   ]
  },
  {
   "cell_type": "code",
   "execution_count": 165,
   "metadata": {},
   "outputs": [
    {
     "name": "stdout",
     "output_type": "stream",
     "text": [
      "   Year Quarter   RHPI   RPDI  RTB10_rt     CPI  TB10_rt     UE  logRHPI  \\\n",
      "0  1976      Q1  58.98  74.11     0.835  24.414    9.327  6.867   4.0772   \n",
      "1  1976      Q2  59.81  75.93     2.535  24.783    9.270  7.167   4.0912   \n",
      "2  1976      Q3  58.82  73.23     2.885  25.125    8.937  7.367   4.0745   \n",
      "3  1976      Q4  57.63  75.18     1.919  25.652    8.610  7.733   4.0540   \n",
      "4  1977      Q1  55.78  74.07     0.943  26.310    8.783  7.867   4.0214   \n",
      "5  1977      Q2  55.20  75.11     0.238  26.863    8.653  8.233   4.0110   \n",
      "\n",
      "   logRPDI  t  logRHPI_4  \n",
      "0   4.3056  0        NaN  \n",
      "1   4.3298  1        NaN  \n",
      "2   4.2936  2        NaN  \n",
      "3   4.3199  3        NaN  \n",
      "4   4.3050  4     4.3056  \n",
      "5   4.3190  5     4.3298  \n"
     ]
    }
   ],
   "source": [
    "hprice[\"logRHPI_4\"] = hprice[\"logRPDI\"].shift(4)\n",
    "print(hprice.head(6))"
   ]
  },
  {
   "cell_type": "markdown",
   "metadata": {},
   "source": [
    "#### 1.4 Generate \"*first-differencing*\" variables\n",
    "\n",
    "It is also known as the year-over-year difference, because we take the difference between now and 4 quarters (a year) ago. \n",
    "\n",
    "E.g. we are calulating the change from 2018 Q1 to 2019 Q1. \n",
    "\n",
    "Create a new column named ```gRHPI```, such that $\\text{gRHPI} = \\Delta \\log(\\textit{RHPI}_t) = \\log(\\textit{RHPI}_t) - \\log(\\textit{RHPI}_{t-4})$"
   ]
  },
  {
   "cell_type": "code",
   "execution_count": 166,
   "metadata": {},
   "outputs": [
    {
     "name": "stdout",
     "output_type": "stream",
     "text": [
      "   Year Quarter   RHPI   RPDI  RTB10_rt     CPI  TB10_rt     UE  logRHPI  \\\n",
      "0  1976      Q1  58.98  74.11     0.835  24.414    9.327  6.867   4.0772   \n",
      "1  1976      Q2  59.81  75.93     2.535  24.783    9.270  7.167   4.0912   \n",
      "2  1976      Q3  58.82  73.23     2.885  25.125    8.937  7.367   4.0745   \n",
      "3  1976      Q4  57.63  75.18     1.919  25.652    8.610  7.733   4.0540   \n",
      "4  1977      Q1  55.78  74.07     0.943  26.310    8.783  7.867   4.0214   \n",
      "5  1977      Q2  55.20  75.11     0.238  26.863    8.653  8.233   4.0110   \n",
      "\n",
      "   logRPDI  t  logRHPI_4   gRHPI  \n",
      "0   4.3056  0        NaN     NaN  \n",
      "1   4.3298  1        NaN     NaN  \n",
      "2   4.2936  2        NaN     NaN  \n",
      "3   4.3199  3        NaN     NaN  \n",
      "4   4.3050  4     4.3056 -0.2842  \n",
      "5   4.3190  5     4.3298 -0.3188  \n"
     ]
    }
   ],
   "source": [
    "hprice[\"gRHPI\"] = hprice[\"logRHPI\"] - hprice[\"logRHPI_4\"]\n",
    "print(hprice.head(6))"
   ]
  },
  {
   "cell_type": "markdown",
   "metadata": {},
   "source": [
    "#### 1.5 Plot the time series for log(RHPI) and growth rate of RHPI"
   ]
  },
  {
   "cell_type": "code",
   "execution_count": 167,
   "metadata": {},
   "outputs": [
    {
     "data": {
      "text/plain": [
       "[<matplotlib.lines.Line2D at 0x74cec1124410>]"
      ]
     },
     "execution_count": 167,
     "metadata": {},
     "output_type": "execute_result"
    },
    {
     "data": {
      "image/png": "[encoded data removed]",
      "text/plain": [
       "<Figure size 640x480 with 1 Axes>"
      ]
     },
     "metadata": {},
     "output_type": "display_data"
    }
   ],
   "source": [
    "matplotlib.pyplot.plot(hprice[\"t\"],hprice[\"logRHPI\"])"
   ]
  },
  {
   "cell_type": "code",
   "execution_count": 168,
   "metadata": {},
   "outputs": [
    {
     "data": {
      "text/plain": [
       "[<matplotlib.lines.Line2D at 0x74cec1027890>]"
      ]
     },
     "execution_count": 168,
     "metadata": {},
     "output_type": "execute_result"
    },
    {
     "data": {
      "image/png": "[encoded data removed]",
      "text/plain": [
       "<Figure size 640x480 with 1 Axes>"
      ]
     },
     "metadata": {},
     "output_type": "display_data"
    }
   ],
   "source": [
    "matplotlib.pyplot.plot(hprice[\"t\"],hprice[\"gRHPI\"])"
   ]
  },
  {
   "cell_type": "markdown",
   "metadata": {},
   "source": [
    "***\n",
    "## Time Trend and Seasonality\n",
    "\n",
    "Consider the following model for house price growth:\n",
    "$$\\log(\\textit{RHPI}_t) = \\beta_0 + \\beta_1 t + \\delta_1 Q2 + \\delta_2 Q3 + \\delta_3 Q4 + u_t$$\n",
    "\n",
    "- $t = 0, 1, 2, \\ldots$ is the time index you created in (1.2)\n",
    "- Q2, Q3, Q4 are dummy variables that equals to 1 in the second, third, and fourth quarter, respectively. Otherwise, they are equal to 0. "
   ]
  },
  {
   "cell_type": "markdown",
   "metadata": {},
   "source": [
    "#### 2.1 Estimate the model"
   ]
  },
  {
   "cell_type": "code",
   "execution_count": 169,
   "metadata": {},
   "outputs": [],
   "source": [
    "model_trend = smf.ols(formula = \"logRHPI ~ t + C(Quarter)\", data = hprice).fit()"
   ]
  },
  {
   "cell_type": "markdown",
   "metadata": {},
   "source": [
    "#### 2.2 Get the estimation results"
   ]
  },
  {
   "cell_type": "code",
   "execution_count": 170,
   "metadata": {},
   "outputs": [
    {
     "name": "stdout",
     "output_type": "stream",
     "text": [
      "                            OLS Regression Results                            \n",
      "==============================================================================\n",
      "Dep. Variable:                logRHPI   R-squared:                       0.852\n",
      "Model:                            OLS   Adj. R-squared:                  0.848\n",
      "Method:                 Least Squares   F-statistic:                     245.2\n",
      "Date:                Tue, 08 Apr 2025   Prob (F-statistic):           1.10e-69\n",
      "Time:                        16:34:46   Log-Likelihood:                 96.886\n",
      "No. Observations:                 176   AIC:                            -183.8\n",
      "Df Residuals:                     171   BIC:                            -167.9\n",
      "Df Model:                           4                                         \n",
      "Covariance Type:            nonrobust                                         \n",
      "====================================================================================\n",
      "                       coef    std err          t      P>|t|      [0.025      0.975]\n",
      "------------------------------------------------------------------------------------\n",
      "Intercept            3.9058      0.028    139.683      0.000       3.851       3.961\n",
      "C(Quarter)[T.Q2]     0.0108      0.030      0.358      0.721      -0.049       0.070\n",
      "C(Quarter)[T.Q3]     0.0080      0.030      0.266      0.790      -0.052       0.068\n",
      "C(Quarter)[T.Q4]    -0.0011      0.030     -0.036      0.971      -0.061       0.059\n",
      "t                    0.0066      0.000     31.307      0.000       0.006       0.007\n",
      "==============================================================================\n",
      "Omnibus:                        5.920   Durbin-Watson:                   0.028\n",
      "Prob(Omnibus):                  0.052   Jarque-Bera (JB):                3.628\n",
      "Skew:                          -0.162   Prob(JB):                        0.163\n",
      "Kurtosis:                       2.376   Cond. No.                         448.\n",
      "==============================================================================\n",
      "\n",
      "Notes:\n",
      "[1] Standard Errors assume that the covariance matrix of the errors is correctly specified.\n"
     ]
    }
   ],
   "source": [
    "print(model_trend.summary())"
   ]
  },
  {
   "cell_type": "markdown",
   "metadata": {},
   "source": [
    "#### 2.3 What is the benchmark (base period) in this model?"
   ]
  },
  {
   "cell_type": "markdown",
   "metadata": {},
   "source": []
  },
  {
   "cell_type": "markdown",
   "metadata": {},
   "source": [
    "#### 2.4 At 5% significance level, is there a statistically significant time trend?"
   ]
  },
  {
   "cell_type": "markdown",
   "metadata": {},
   "source": []
  },
  {
   "cell_type": "markdown",
   "metadata": {},
   "source": [
    "#### 2.5 At 5% significance level, would you conclude that house price growth exhibits seasonality at quarterly frequency?"
   ]
  },
  {
   "cell_type": "markdown",
   "metadata": {},
   "source": []
  },
  {
   "cell_type": "markdown",
   "metadata": {},
   "source": [
    "***\n",
    "## Autoregressive Process of Order 1\n",
    "\n",
    "Consider a house price model with AR(1) specification:\n",
    "$$\\log(\\textit{RHPI}_t) = \\beta_0 + \\beta_1 t + \\beta_2 \\log(\\textit{RHPI}_{t-4}) + \\delta_1 Q2 + \\delta_2 Q3 + \\delta_3 Q4 + u_t$$"
   ]
  },
  {
   "cell_type": "markdown",
   "metadata": {},
   "source": [
    "#### 3.1 Estimate the model"
   ]
  },
  {
   "cell_type": "code",
   "execution_count": 171,
   "metadata": {},
   "outputs": [],
   "source": [
    "model_ar1 = smf.ols(formula = \"logRHPI ~ t + C(Quarter) + logRHPI_4\", data = hprice).fit()\n"
   ]
  },
  {
   "cell_type": "markdown",
   "metadata": {},
   "source": [
    "#### 3.2 Get the estimation results"
   ]
  },
  {
   "cell_type": "code",
   "execution_count": 172,
   "metadata": {},
   "outputs": [
    {
     "name": "stdout",
     "output_type": "stream",
     "text": [
      "                            OLS Regression Results                            \n",
      "==============================================================================\n",
      "Dep. Variable:                logRHPI   R-squared:                       0.955\n",
      "Model:                            OLS   Adj. R-squared:                  0.953\n",
      "Method:                 Least Squares   F-statistic:                     700.3\n",
      "Date:                Tue, 08 Apr 2025   Prob (F-statistic):          1.45e-109\n",
      "Time:                        16:34:46   Log-Likelihood:                 197.49\n",
      "No. Observations:                 172   AIC:                            -383.0\n",
      "Df Residuals:                     166   BIC:                            -364.1\n",
      "Df Model:                           5                                         \n",
      "Covariance Type:            nonrobust                                         \n",
      "====================================================================================\n",
      "                       coef    std err          t      P>|t|      [0.025      0.975]\n",
      "------------------------------------------------------------------------------------\n",
      "Intercept           -7.9603      0.610    -13.057      0.000      -9.164      -6.757\n",
      "C(Quarter)[T.Q2]     0.0127      0.017      0.755      0.452      -0.021       0.046\n",
      "C(Quarter)[T.Q3]     0.0098      0.017      0.583      0.561      -0.023       0.043\n",
      "C(Quarter)[T.Q4]    -0.0002      0.017     -0.012      0.990      -0.033       0.033\n",
      "t                   -0.0027      0.000     -5.424      0.000      -0.004      -0.002\n",
      "logRHPI_4            2.7960      0.144     19.445      0.000       2.512       3.080\n",
      "==============================================================================\n",
      "Omnibus:                       15.856   Durbin-Watson:                   0.328\n",
      "Prob(Omnibus):                  0.000   Jarque-Bera (JB):               18.351\n",
      "Skew:                           0.655   Prob(JB):                     0.000104\n",
      "Kurtosis:                       3.918   Cond. No.                     1.08e+04\n",
      "==============================================================================\n",
      "\n",
      "Notes:\n",
      "[1] Standard Errors assume that the covariance matrix of the errors is correctly specified.\n",
      "[2] The condition number is large, 1.08e+04. This might indicate that there are\n",
      "strong multicollinearity or other numerical problems.\n"
     ]
    }
   ],
   "source": [
    "print(model_ar1.summary())"
   ]
  },
  {
   "cell_type": "markdown",
   "metadata": {},
   "source": [
    "#### 3.3 At 5% significance level, what would you conclude about $\\beta_2$?"
   ]
  },
  {
   "cell_type": "markdown",
   "metadata": {},
   "source": []
  },
  {
   "cell_type": "markdown",
   "metadata": {},
   "source": [
    "#### 3.4 Does the AR(1) process have weak dependence?"
   ]
  },
  {
   "cell_type": "markdown",
   "metadata": {},
   "source": [
    "Yes! Bc $\\beta_1 < 1\n"
   ]
  },
  {
   "cell_type": "markdown",
   "metadata": {},
   "source": [
    "#### 3.5 Is the time trend still significant? Why or why not?"
   ]
  },
  {
   "cell_type": "markdown",
   "metadata": {},
   "source": []
  },
  {
   "cell_type": "markdown",
   "metadata": {},
   "source": [
    "***\n",
    "## Complete Model with other Exogenous Regressors\n",
    "\n",
    "Consider a house price model with AR(1) specification and other exogenous regressors:\n",
    "$$\\log(\\textit{RHPI}_t) = \\beta_0 + \\beta_1 t + \\beta_2 \\log(\\textit{RHPI}_{t-4}) + \\beta_3 \\textit{UE}_t + \\beta_4 \\log(\\textit{RPDI}_t) + \\delta_1 Q2 + \\delta_2 Q3 + \\delta_3 Q4 + u_t$$"
   ]
  },
  {
   "cell_type": "markdown",
   "metadata": {},
   "source": [
    "#### 4.1 Estimate the model"
   ]
  },
  {
   "cell_type": "code",
   "execution_count": 173,
   "metadata": {},
   "outputs": [
    {
     "name": "stdout",
     "output_type": "stream",
     "text": [
      "                            OLS Regression Results                            \n",
      "==============================================================================\n",
      "Dep. Variable:                logRHPI   R-squared:                       0.963\n",
      "Model:                            OLS   Adj. R-squared:                  0.962\n",
      "Method:                 Least Squares   F-statistic:                     615.7\n",
      "Date:                Tue, 08 Apr 2025   Prob (F-statistic):          3.21e-114\n",
      "Time:                        16:34:46   Log-Likelihood:                 215.63\n",
      "No. Observations:                 172   AIC:                            -415.3\n",
      "Df Residuals:                     164   BIC:                            -390.1\n",
      "Df Model:                           7                                         \n",
      "Covariance Type:            nonrobust                                         \n",
      "====================================================================================\n",
      "                       coef    std err          t      P>|t|      [0.025      0.975]\n",
      "------------------------------------------------------------------------------------\n",
      "Intercept           -9.0040      0.613    -14.688      0.000     -10.214      -7.794\n",
      "C(Quarter)[T.Q2]     0.0137      0.015      0.899      0.370      -0.016       0.044\n",
      "C(Quarter)[T.Q3]     0.0095      0.015      0.619      0.536      -0.021       0.040\n",
      "C(Quarter)[T.Q4]     0.0001      0.015      0.010      0.992      -0.030       0.030\n",
      "t                   -0.0036      0.000     -7.607      0.000      -0.005      -0.003\n",
      "logRHPI_4            1.3364      0.280      4.766      0.000       0.783       1.890\n",
      "UE                   0.0014      0.005      0.306      0.760      -0.008       0.010\n",
      "logRPDI              1.7003      0.298      5.702      0.000       1.111       2.289\n",
      "==============================================================================\n",
      "Omnibus:                        5.755   Durbin-Watson:                   0.244\n",
      "Prob(Omnibus):                  0.056   Jarque-Bera (JB):                6.529\n",
      "Skew:                           0.253   Prob(JB):                       0.0382\n",
      "Kurtosis:                       3.809   Cond. No.                     1.19e+04\n",
      "==============================================================================\n",
      "\n",
      "Notes:\n",
      "[1] Standard Errors assume that the covariance matrix of the errors is correctly specified.\n",
      "[2] The condition number is large, 1.19e+04. This might indicate that there are\n",
      "strong multicollinearity or other numerical problems.\n"
     ]
    }
   ],
   "source": [
    "model_final = smf.ols(formula = \"logRHPI ~ t + C(Quarter) + logRHPI_4 + UE + logRPDI\",data = hprice).fit()\n",
    "print(model_final.summary())"
   ]
  },
  {
   "cell_type": "markdown",
   "metadata": {},
   "source": [
    "#### 4.2 Get the estimation results"
   ]
  },
  {
   "cell_type": "code",
   "execution_count": null,
   "metadata": {},
   "outputs": [],
   "source": []
  },
  {
   "cell_type": "markdown",
   "metadata": {},
   "source": [
    "#### 4.3 How would you interpret $\\beta_3$? (Be careful on how unemployment rate is reported in the data set)"
   ]
  },
  {
   "cell_type": "markdown",
   "metadata": {},
   "source": []
  },
  {
   "cell_type": "markdown",
   "metadata": {},
   "source": [
    "#### 4.4 At 5% significance level, what would you conclude about $\\beta_3$?"
   ]
  },
  {
   "cell_type": "markdown",
   "metadata": {},
   "source": []
  },
  {
   "cell_type": "markdown",
   "metadata": {},
   "source": [
    "#### 4.5 Explain why the AR(1) dependence ($\\beta_2$) is weakened, when compare with your results in Question 3."
   ]
  },
  {
   "cell_type": "markdown",
   "metadata": {},
   "source": []
  },
  {
   "cell_type": "markdown",
   "metadata": {},
   "source": [
    "***\n",
    "## References\n",
    "- Jeffrey M. Wooldridge (2019). \"Introductory Econometrics: A Modern Approach, 7e\" Chapter 11.\n",
    "    \n",
    "- The pandas development team (2020). \"[pandas-dev/pandas: Pandas](https://pandas.pydata.org/).\" Zenodo.\n",
    "    \n",
    "- Seabold, Skipper, and Josef Perktold (2010). \"[statsmodels: Econometric and statistical modeling with python](https://www.statsmodels.org/stable/examples/notebooks/generated/ols.html).\" Proceedings of the 9th Python in Science Conference."
   ]
  }
 ],
 "metadata": {
  "kernelspec": {
   "display_name": "Python 3",
   "language": "python",
   "name": "python3"
  },
  "language_info": {
   "codemirror_mode": {
    "name": "ipython",
    "version": 3
   },
   "file_extension": ".py",
   "mimetype": "text/x-python",
   "name": "python",
   "nbconvert_exporter": "python",
   "pygments_lexer": "ipython3",
   "version": "3.13.1"
  }
 },
 "nbformat": 4,
 "nbformat_minor": 4
}
