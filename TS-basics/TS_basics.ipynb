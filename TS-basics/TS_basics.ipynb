{
 "cells": [
  {
   "cell_type": "markdown",
   "metadata": {},
   "source": [
    "## Introduction\n",
    "\n",
    "This in-class example demonstrates how to calculate heteroskeasticity-robust standard error and conduct tests on the existence of heteroskedasticity.\n",
    "\n",
    "What you need to know:  \n",
    "- Statsmodels and pandas modules in python\n",
    "- Theoretical concepts on time series regression model\n",
    "\n",
    "The list of [references](#References) for detailed concepts and techniques used in this exerise.\n",
    "***\n",
    "\n",
    "## Content\n",
    "- [Model a Time Trend](#Model-a-Time-Trend)\n",
    "- [Static Housing Investment Model](#Estimate-a-Static-Housing-Investment-Model)\n",
    "- [Static Housing Investment Model with Time Trend](#Estimate-a-Static-Housing-Investment-Model-with-Time-Trend)\n",
    "- [Finite Distributed Lag Model](#Estimate-a-Finite-Distributed-Lag-Model) \n",
    "- [Finite Distributed Lag Model with Time Trend](#Estimate-a-Finite-Distributed-Lag-Model-with-Time-Trend)\n",
    "- [References](#References)"
   ]
  },
  {
   "cell_type": "markdown",
   "metadata": {},
   "source": [
    "***\n",
    "## Data Description\n",
    "\n",
    "The data set is contained in a comma-separated value (csv) file named ```HSEINV.csv``` with column headers. \n",
    "\n",
    "The data is a set of annual observations on housing investment and a housing price index in the United States for 1947 through 1988.\n",
    "\n",
    "Description of the data is as follow:\n",
    "\n",
    "| Name | Description |\n",
    "| :--- | :--- |\n",
    "| year     | 1947-1988 |\n",
    "| inv      | real housing inv, millions $ |\n",
    "| pop      | population, 1000s |\n",
    "| price    | housing price index; 1982 = 1 |\n",
    "| linv     | log(inv) |\n",
    "| lpop     | log(pop) |\n",
    "| lprice   | log(price) |\n",
    "| t        | time trend: t = 1, ..., 42 |\n",
    "| invpc    | per capita inv: inv/pop |\n",
    "| linvpc   | log(invpc) |\n",
    "| lprice_1 | lprice *last* period |\n",
    "| linvpc_1 | linvpc *last* period |\n",
    "| gprice   | lprice - lprice_1 |\n",
    "| ginvpc   | linvpc - linvpc_1 |"
   ]
  },
  {
   "cell_type": "markdown",
   "metadata": {},
   "source": [
    "***\n",
    "## Load the required modules"
   ]
  },
  {
   "cell_type": "code",
   "execution_count": 195,
   "metadata": {
    "execution": {
     "iopub.execute_input": "2025-02-21T05:47:21.701571Z",
     "iopub.status.busy": "2025-02-21T05:47:21.701372Z",
     "iopub.status.idle": "2025-02-21T05:47:23.010634Z",
     "shell.execute_reply": "2025-02-21T05:47:23.009972Z"
    }
   },
   "outputs": [],
   "source": [
    "import numpy as np\n",
    "import pandas as pd\n",
    "import statsmodels\n",
    "import statsmodels.api as sm\n",
    "import statsmodels.formula.api as smf\n",
    "import matplotlib.pyplot"
   ]
  },
  {
   "cell_type": "markdown",
   "metadata": {},
   "source": [
    "***\n",
    "## Import the data set\n",
    "\n",
    "#### Load the data set into Python"
   ]
  },
  {
   "cell_type": "code",
   "execution_count": 196,
   "metadata": {},
   "outputs": [
    {
     "name": "stdout",
     "output_type": "stream",
     "text": [
      "   year    inv     pop   price       linv       lpop    lprice     invpc  \\\n",
      "0  1947  54864  144126  0.8190  10.912613  11.878443 -0.199671  0.380667   \n",
      "1  1948  64717  146631  0.8649  11.077779  11.895675 -0.145141  0.441360   \n",
      "2  1949  63150  149188  0.8456  11.053268  11.912963 -0.167709  0.423291   \n",
      "3  1950  86014  151684  0.8765  11.362266  11.929555 -0.131819  0.567060   \n",
      "4  1951  70610  154287  0.8819  11.164927  11.946569 -0.125677  0.457654   \n",
      "\n",
      "     linvpc  \n",
      "0 -0.965831  \n",
      "1 -0.817895  \n",
      "2 -0.859694  \n",
      "3 -0.567289  \n",
      "4 -0.781643  \n"
     ]
    }
   ],
   "source": [
    "HSEINV = pd.read_csv(\"HSEINV.csv\")\n",
    "print(HSEINV.head())"
   ]
  },
  {
   "cell_type": "markdown",
   "metadata": {},
   "source": [
    "#### Sort the data in ascending order by year"
   ]
  },
  {
   "cell_type": "code",
   "execution_count": 197,
   "metadata": {},
   "outputs": [],
   "source": [
    "HSEINV = HSEINV.sort_values(by=['year'])"
   ]
  },
  {
   "cell_type": "markdown",
   "metadata": {},
   "source": [
    "#### Generate time index\n",
    "\n",
    "Create new variable ```t``` such that $t=0$ in the first period "
   ]
  },
  {
   "cell_type": "code",
   "execution_count": 198,
   "metadata": {},
   "outputs": [
    {
     "name": "stdout",
     "output_type": "stream",
     "text": [
      "   year    inv     pop   price       linv       lpop    lprice     invpc  \\\n",
      "0  1947  54864  144126  0.8190  10.912613  11.878443 -0.199671  0.380667   \n",
      "1  1948  64717  146631  0.8649  11.077779  11.895675 -0.145141  0.441360   \n",
      "2  1949  63150  149188  0.8456  11.053268  11.912963 -0.167709  0.423291   \n",
      "3  1950  86014  151684  0.8765  11.362266  11.929555 -0.131819  0.567060   \n",
      "4  1951  70610  154287  0.8819  11.164927  11.946569 -0.125677  0.457654   \n",
      "\n",
      "     linvpc  t  \n",
      "0 -0.965831  0  \n",
      "1 -0.817895  1  \n",
      "2 -0.859694  2  \n",
      "3 -0.567289  3  \n",
      "4 -0.781643  4  \n"
     ]
    }
   ],
   "source": [
    "HSEINV[\"t\"] = HSEINV.year - HSEINV.year[0]\n",
    "print(HSEINV.head())"
   ]
  },
  {
   "cell_type": "markdown",
   "metadata": {},
   "source": [
    "#### Generate lag variable\n",
    "\n",
    "Create a new column in the date set named ```lprice_1```, such that $lprice\\_1 = \\log(price_{t-1})$ "
   ]
  },
  {
   "cell_type": "code",
   "execution_count": 199,
   "metadata": {},
   "outputs": [
    {
     "name": "stdout",
     "output_type": "stream",
     "text": [
      "   year    inv     pop   price       linv       lpop    lprice     invpc  \\\n",
      "0  1947  54864  144126  0.8190  10.912613  11.878443 -0.199671  0.380667   \n",
      "1  1948  64717  146631  0.8649  11.077779  11.895675 -0.145141  0.441360   \n",
      "2  1949  63150  149188  0.8456  11.053268  11.912963 -0.167709  0.423291   \n",
      "3  1950  86014  151684  0.8765  11.362266  11.929555 -0.131819  0.567060   \n",
      "4  1951  70610  154287  0.8819  11.164927  11.946569 -0.125677  0.457654   \n",
      "\n",
      "     linvpc  t  lprice_1  \n",
      "0 -0.965831  0       NaN  \n",
      "1 -0.817895  1 -0.199671  \n",
      "2 -0.859694  2 -0.145141  \n",
      "3 -0.567289  3 -0.167709  \n",
      "4 -0.781643  4 -0.131819  \n"
     ]
    }
   ],
   "source": [
    "HSEINV[\"lprice_1\"] = HSEINV.lprice.shift(1)\n",
    "print(HSEINV.head())"
   ]
  },
  {
   "cell_type": "markdown",
   "metadata": {},
   "source": [
    "#### Generate \"*first-differencing*\" variables\n",
    "\n",
    "Create a new column named ```gprice```, such that $gprice = \\log(price_t) - \\log(price_{t-1})$"
   ]
  },
  {
   "cell_type": "code",
   "execution_count": 200,
   "metadata": {},
   "outputs": [
    {
     "name": "stdout",
     "output_type": "stream",
     "text": [
      "   year    inv     pop   price       linv       lpop    lprice     invpc  \\\n",
      "0  1947  54864  144126  0.8190  10.912613  11.878443 -0.199671  0.380667   \n",
      "1  1948  64717  146631  0.8649  11.077779  11.895675 -0.145141  0.441360   \n",
      "2  1949  63150  149188  0.8456  11.053268  11.912963 -0.167709  0.423291   \n",
      "3  1950  86014  151684  0.8765  11.362266  11.929555 -0.131819  0.567060   \n",
      "4  1951  70610  154287  0.8819  11.164927  11.946569 -0.125677  0.457654   \n",
      "\n",
      "     linvpc  t  lprice_1    gprice  \n",
      "0 -0.965831  0       NaN       NaN  \n",
      "1 -0.817895  1 -0.199671  0.054530  \n",
      "2 -0.859694  2 -0.145141 -0.022567  \n",
      "3 -0.567289  3 -0.167709  0.035890  \n",
      "4 -0.781643  4 -0.131819  0.006142  \n"
     ]
    }
   ],
   "source": [
    "HSEINV[\"gprice\"] = HSEINV[\"lprice\"] - HSEINV[\"lprice_1\"]\n",
    "print(HSEINV.head())"
   ]
  },
  {
   "cell_type": "markdown",
   "metadata": {},
   "source": [
    "#### Compare the series of ```lprice``` with ```gprice``` "
   ]
  },
  {
   "cell_type": "code",
   "execution_count": 201,
   "metadata": {},
   "outputs": [
    {
     "data": {
      "text/plain": [
       "[<matplotlib.lines.Line2D at 0x722c5dd48cd0>]"
      ]
     },
     "execution_count": 201,
     "metadata": {},
     "output_type": "execute_result"
    },
    {
     "data": {
      "image/png": "[encoded data removed]",
      "text/plain": [
       "<Figure size 640x480 with 1 Axes>"
      ]
     },
     "metadata": {},
     "output_type": "display_data"
    }
   ],
   "source": [
    "matplotlib.pyplot.plot(HSEINV.year,HSEINV.lprice)\n",
    "matplotlib.pyplot.plot(HSEINV.year, HSEINV.gprice)"
   ]
  },
  {
   "cell_type": "markdown",
   "metadata": {},
   "source": [
    "***\n",
    "## Model a Time Trend\n",
    "\n",
    "#### Estimate the time trend of log housing investment\n",
    "$$linvpc = \\beta_0 + \\beta_1 t + u_t$$"
   ]
  },
  {
   "cell_type": "code",
   "execution_count": 202,
   "metadata": {},
   "outputs": [
    {
     "name": "stdout",
     "output_type": "stream",
     "text": [
      "                            OLS Regression Results                            \n",
      "==============================================================================\n",
      "Dep. Variable:                 linvpc   R-squared:                       0.335\n",
      "Model:                            OLS   Adj. R-squared:                  0.319\n",
      "Method:                 Least Squares   F-statistic:                     20.19\n",
      "Date:                Tue, 01 Apr 2025   Prob (F-statistic):           5.85e-05\n",
      "Time:                        16:43:03   Log-Likelihood:                 23.290\n",
      "No. Observations:                  42   AIC:                            -42.58\n",
      "Df Residuals:                      40   BIC:                            -39.11\n",
      "Df Model:                           1                                         \n",
      "Covariance Type:            nonrobust                                         \n",
      "==============================================================================\n",
      "                 coef    std err          t      P>|t|      [0.025      0.975]\n",
      "------------------------------------------------------------------------------\n",
      "Intercept    -16.6932      3.567     -4.680      0.000     -23.902      -9.484\n",
      "year           0.0081      0.002      4.493      0.000       0.004       0.012\n",
      "==============================================================================\n",
      "Omnibus:                        6.231   Durbin-Watson:                   1.014\n",
      "Prob(Omnibus):                  0.044   Jarque-Bera (JB):                5.766\n",
      "Skew:                          -0.523   Prob(JB):                       0.0560\n",
      "Kurtosis:                       4.483   Cond. No.                     3.19e+05\n",
      "==============================================================================\n",
      "\n",
      "Notes:\n",
      "[1] Standard Errors assume that the covariance matrix of the errors is correctly specified.\n",
      "[2] The condition number is large, 3.19e+05. This might indicate that there are\n",
      "strong multicollinearity or other numerical problems.\n"
     ]
    }
   ],
   "source": [
    "model_t = smf.ols(formula='linvpc ~ year', data = HSEINV).fit()\n",
    "print(model_t.summary())"
   ]
  },
  {
   "cell_type": "markdown",
   "metadata": {},
   "source": [
    "#### Get the estimation results"
   ]
  },
  {
   "cell_type": "code",
   "execution_count": null,
   "metadata": {},
   "outputs": [],
   "source": []
  },
  {
   "cell_type": "markdown",
   "metadata": {},
   "source": [
    "How would you interpret $\\beta_1$?"
   ]
  },
  {
   "cell_type": "markdown",
   "metadata": {},
   "source": []
  },
  {
   "cell_type": "markdown",
   "metadata": {},
   "source": [
    "At 5% significance level, what would you conclude about $\\beta_1$?"
   ]
  },
  {
   "cell_type": "markdown",
   "metadata": {},
   "source": []
  },
  {
   "cell_type": "markdown",
   "metadata": {},
   "source": [
    "#### Plot the time series of log housing investment (predicted vs actual)"
   ]
  },
  {
   "cell_type": "code",
   "execution_count": 203,
   "metadata": {},
   "outputs": [
    {
     "data": {
      "text/plain": [
       "[<matplotlib.lines.Line2D at 0x722c5dda25d0>]"
      ]
     },
     "execution_count": 203,
     "metadata": {},
     "output_type": "execute_result"
    },
    {
     "data": {
      "image/png": "[encoded data removed]",
      "text/plain": [
       "<Figure size 640x480 with 1 Axes>"
      ]
     },
     "metadata": {},
     "output_type": "display_data"
    }
   ],
   "source": [
    "matplotlib.pyplot.plot(HSEINV.year, HSEINV.linvpc)\n",
    "matplotlib.pyplot.plot(HSEINV.year, model_t.predict())"
   ]
  },
  {
   "cell_type": "markdown",
   "metadata": {},
   "source": [
    "***\n",
    "## Estimate a Static Housing Investment Model"
   ]
  },
  {
   "cell_type": "markdown",
   "metadata": {},
   "source": [
    "Consider a housing investment model log-log specification:\n",
    "$$linvpc_t = \\beta_0 + \\beta_1 lprice_t + u_t$$"
   ]
  },
  {
   "cell_type": "markdown",
   "metadata": {},
   "source": [
    "#### Estimate the model"
   ]
  },
  {
   "cell_type": "code",
   "execution_count": 204,
   "metadata": {},
   "outputs": [],
   "source": [
    "model_s = smf.ols(formula = \"linvpc ~ lprice\", data=HSEINV).fit()"
   ]
  },
  {
   "cell_type": "markdown",
   "metadata": {},
   "source": [
    "#### Get the estimation results"
   ]
  },
  {
   "cell_type": "code",
   "execution_count": 205,
   "metadata": {},
   "outputs": [
    {
     "name": "stdout",
     "output_type": "stream",
     "text": [
      "                            OLS Regression Results                            \n",
      "==============================================================================\n",
      "Dep. Variable:                 linvpc   R-squared:                       0.208\n",
      "Model:                            OLS   Adj. R-squared:                  0.189\n",
      "Method:                 Least Squares   F-statistic:                     10.53\n",
      "Date:                Tue, 01 Apr 2025   Prob (F-statistic):            0.00238\n",
      "Time:                        16:43:03   Log-Likelihood:                 19.617\n",
      "No. Observations:                  42   AIC:                            -35.23\n",
      "Df Residuals:                      40   BIC:                            -31.76\n",
      "Df Model:                           1                                         \n",
      "Covariance Type:            nonrobust                                         \n",
      "==============================================================================\n",
      "                 coef    std err          t      P>|t|      [0.025      0.975]\n",
      "------------------------------------------------------------------------------\n",
      "Intercept     -0.5502      0.043    -12.788      0.000      -0.637      -0.463\n",
      "lprice         1.2409      0.382      3.245      0.002       0.468       2.014\n",
      "==============================================================================\n",
      "Omnibus:                        2.837   Durbin-Watson:                   0.814\n",
      "Prob(Omnibus):                  0.242   Jarque-Bera (JB):                1.838\n",
      "Skew:                          -0.250   Prob(JB):                        0.399\n",
      "Kurtosis:                       3.895   Cond. No.                         16.1\n",
      "==============================================================================\n",
      "\n",
      "Notes:\n",
      "[1] Standard Errors assume that the covariance matrix of the errors is correctly specified.\n"
     ]
    }
   ],
   "source": [
    "print(model_s.summary())"
   ]
  },
  {
   "cell_type": "markdown",
   "metadata": {},
   "source": [
    "How would you interpret $\\beta_1$?"
   ]
  },
  {
   "cell_type": "markdown",
   "metadata": {},
   "source": []
  },
  {
   "cell_type": "markdown",
   "metadata": {},
   "source": [
    "At 5% significance level, what would you conclude about $\\beta_1$?"
   ]
  },
  {
   "cell_type": "markdown",
   "metadata": {},
   "source": []
  },
  {
   "cell_type": "markdown",
   "metadata": {},
   "source": [
    "#### Plot the time series of log housing investment (predicted vs actual)"
   ]
  },
  {
   "cell_type": "code",
   "execution_count": 206,
   "metadata": {},
   "outputs": [
    {
     "data": {
      "text/plain": [
       "[<matplotlib.lines.Line2D at 0x722c5dc1c550>]"
      ]
     },
     "execution_count": 206,
     "metadata": {},
     "output_type": "execute_result"
    },
    {
     "data": {
      "image/png": "[encoded data removed]",
      "text/plain": [
       "<Figure size 640x480 with 1 Axes>"
      ]
     },
     "metadata": {},
     "output_type": "display_data"
    }
   ],
   "source": [
    "matplotlib.pyplot.plot(HSEINV.year, HSEINV.linvpc)\n",
    "matplotlib.pyplot.plot(HSEINV.year, model_s.predict())"
   ]
  },
  {
   "cell_type": "markdown",
   "metadata": {},
   "source": [
    "***\n",
    "## Estimate a Static Housing Investment Model with Time Trend"
   ]
  },
  {
   "cell_type": "markdown",
   "metadata": {},
   "source": [
    "Consider a housing investment model log-log specification:\n",
    "$$linvpc_t = \\beta_0 + \\beta_1 lprice_t + \\beta_2 t + u_t$$\n",
    "where $t$ is the time trend."
   ]
  },
  {
   "cell_type": "markdown",
   "metadata": {},
   "source": [
    "#### Estimate the model"
   ]
  },
  {
   "cell_type": "code",
   "execution_count": 207,
   "metadata": {},
   "outputs": [
    {
     "name": "stdout",
     "output_type": "stream",
     "text": [
      "                            OLS Regression Results                            \n",
      "==============================================================================\n",
      "Dep. Variable:                 linvpc   R-squared:                       0.341\n",
      "Model:                            OLS   Adj. R-squared:                  0.307\n",
      "Method:                 Least Squares   F-statistic:                     10.08\n",
      "Date:                Tue, 01 Apr 2025   Prob (F-statistic):           0.000296\n",
      "Time:                        16:43:03   Log-Likelihood:                 23.459\n",
      "No. Observations:                  42   AIC:                            -40.92\n",
      "Df Residuals:                      39   BIC:                            -35.71\n",
      "Df Model:                           2                                         \n",
      "Covariance Type:            nonrobust                                         \n",
      "==============================================================================\n",
      "                 coef    std err          t      P>|t|      [0.025      0.975]\n",
      "------------------------------------------------------------------------------\n",
      "Intercept     -0.9032      0.132     -6.829      0.000      -1.171      -0.636\n",
      "lprice        -0.3810      0.679     -0.561      0.578      -1.754       0.992\n",
      "t              0.0098      0.004      2.798      0.008       0.003       0.017\n",
      "==============================================================================\n",
      "Omnibus:                        4.879   Durbin-Watson:                   1.049\n",
      "Prob(Omnibus):                  0.087   Jarque-Bera (JB):                3.978\n",
      "Skew:                          -0.446   Prob(JB):                        0.137\n",
      "Kurtosis:                       4.216   Cond. No.                         742.\n",
      "==============================================================================\n",
      "\n",
      "Notes:\n",
      "[1] Standard Errors assume that the covariance matrix of the errors is correctly specified.\n"
     ]
    }
   ],
   "source": [
    "model_st = smf.ols(formula = \"linvpc ~ lprice + t\", data=HSEINV).fit()\n",
    "print (model_st.summary())"
   ]
  },
  {
   "cell_type": "markdown",
   "metadata": {},
   "source": [
    "#### Get the estimation results"
   ]
  },
  {
   "cell_type": "code",
   "execution_count": null,
   "metadata": {},
   "outputs": [],
   "source": []
  },
  {
   "cell_type": "markdown",
   "metadata": {},
   "source": [
    "At 5% significance level, what would you conclude about $\\beta_1$?"
   ]
  },
  {
   "cell_type": "markdown",
   "metadata": {},
   "source": []
  },
  {
   "cell_type": "markdown",
   "metadata": {},
   "source": [
    "#### Plot the time series of log housing investment (predicted vs actual)"
   ]
  },
  {
   "cell_type": "code",
   "execution_count": null,
   "metadata": {},
   "outputs": [],
   "source": []
  },
  {
   "cell_type": "markdown",
   "metadata": {},
   "source": [
    "***\n",
    "## Estimate a Finite Distributed Lag Model\n",
    "\n",
    "Consider a housing investment model log-log specification:\n",
    "$$linvpc_t = \\beta_0 + \\beta_1 lprice_t + \\beta_2 lprice_{t-1} + u_t$$"
   ]
  },
  {
   "cell_type": "markdown",
   "metadata": {},
   "source": [
    "#### Estimate the model"
   ]
  },
  {
   "cell_type": "code",
   "execution_count": 208,
   "metadata": {},
   "outputs": [
    {
     "name": "stdout",
     "output_type": "stream",
     "text": [
      "                            OLS Regression Results                            \n",
      "==============================================================================\n",
      "Dep. Variable:                 linvpc   R-squared:                       0.319\n",
      "Model:                            OLS   Adj. R-squared:                  0.283\n",
      "Method:                 Least Squares   F-statistic:                     8.893\n",
      "Date:                Tue, 01 Apr 2025   Prob (F-statistic):           0.000679\n",
      "Time:                        16:43:03   Log-Likelihood:                 23.342\n",
      "No. Observations:                  41   AIC:                            -40.68\n",
      "Df Residuals:                      38   BIC:                            -35.54\n",
      "Df Model:                           2                                         \n",
      "Covariance Type:            nonrobust                                         \n",
      "==============================================================================\n",
      "                 coef    std err          t      P>|t|      [0.025      0.975]\n",
      "------------------------------------------------------------------------------\n",
      "Intercept     -0.5821      0.041    -14.301      0.000      -0.665      -0.500\n",
      "lprice         4.2607      1.153      3.696      0.001       1.927       6.594\n",
      "lprice_1      -3.2537      1.134     -2.868      0.007      -5.550      -0.957\n",
      "==============================================================================\n",
      "Omnibus:                        0.534   Durbin-Watson:                   0.735\n",
      "Prob(Omnibus):                  0.766   Jarque-Bera (JB):                0.092\n",
      "Skew:                           0.084   Prob(JB):                        0.955\n",
      "Kurtosis:                       3.160   Cond. No.                         72.5\n",
      "==============================================================================\n",
      "\n",
      "Notes:\n",
      "[1] Standard Errors assume that the covariance matrix of the errors is correctly specified.\n"
     ]
    }
   ],
   "source": [
    "model_lag = smf.ols(formula = \"linvpc ~ lprice + lprice_1\", data=HSEINV).fit()\n",
    "\n",
    "print(model_lag.summary())"
   ]
  },
  {
   "cell_type": "markdown",
   "metadata": {},
   "source": [
    "#### Get the estimation results"
   ]
  },
  {
   "cell_type": "code",
   "execution_count": null,
   "metadata": {},
   "outputs": [],
   "source": []
  },
  {
   "cell_type": "markdown",
   "metadata": {},
   "source": [
    "How would you interpret $\\beta_1$?"
   ]
  },
  {
   "cell_type": "markdown",
   "metadata": {},
   "source": []
  },
  {
   "cell_type": "markdown",
   "metadata": {},
   "source": [
    "How would you interpret $\\beta_2$?"
   ]
  },
  {
   "cell_type": "markdown",
   "metadata": {},
   "source": []
  },
  {
   "cell_type": "markdown",
   "metadata": {},
   "source": [
    "#### Plot the time series of log housing investment (predicted vs actual)"
   ]
  },
  {
   "cell_type": "code",
   "execution_count": null,
   "metadata": {},
   "outputs": [],
   "source": []
  },
  {
   "cell_type": "markdown",
   "metadata": {},
   "source": [
    "***\n",
    "## Estimate a Finite Distributed Lag Model with Time Trend\n",
    "\n",
    "Consider a housing investment model log-log specification:\n",
    "$$linvpc_t = \\beta_0 + \\beta_1 lprice_t + \\beta_2 lprice_{t-1} + t + u_t$$"
   ]
  },
  {
   "cell_type": "markdown",
   "metadata": {},
   "source": [
    "#### Estimate the model"
   ]
  },
  {
   "cell_type": "code",
   "execution_count": 209,
   "metadata": {},
   "outputs": [
    {
     "name": "stdout",
     "output_type": "stream",
     "text": [
      "                            OLS Regression Results                            \n",
      "==============================================================================\n",
      "Dep. Variable:                 linvpc   R-squared:                       0.564\n",
      "Model:                            OLS   Adj. R-squared:                  0.529\n",
      "Method:                 Least Squares   F-statistic:                     15.96\n",
      "Date:                Tue, 01 Apr 2025   Prob (F-statistic):           8.09e-07\n",
      "Time:                        16:43:04   Log-Likelihood:                 32.492\n",
      "No. Observations:                  41   AIC:                            -56.98\n",
      "Df Residuals:                      37   BIC:                            -50.13\n",
      "Df Model:                           3                                         \n",
      "Covariance Type:            nonrobust                                         \n",
      "==============================================================================\n",
      "                 coef    std err          t      P>|t|      [0.025      0.975]\n",
      "------------------------------------------------------------------------------\n",
      "Intercept     -1.0730      0.113     -9.534      0.000      -1.301      -0.845\n",
      "lprice         3.2595      0.960      3.395      0.002       1.314       5.205\n",
      "lprice_1      -4.4868      0.959     -4.681      0.000      -6.429      -2.545\n",
      "t              0.0134      0.003      4.562      0.000       0.007       0.019\n",
      "==============================================================================\n",
      "Omnibus:                        0.550   Durbin-Watson:                   0.969\n",
      "Prob(Omnibus):                  0.759   Jarque-Bera (JB):                0.532\n",
      "Skew:                          -0.252   Prob(JB):                        0.766\n",
      "Kurtosis:                       2.760   Cond. No.                     1.73e+03\n",
      "==============================================================================\n",
      "\n",
      "Notes:\n",
      "[1] Standard Errors assume that the covariance matrix of the errors is correctly specified.\n",
      "[2] The condition number is large, 1.73e+03. This might indicate that there are\n",
      "strong multicollinearity or other numerical problems.\n"
     ]
    }
   ],
   "source": [
    "model_lagt = smf.ols(formula=\"linvpc ~ lprice + lprice_1 + t\", data = HSEINV).fit()\n",
    "print(model_lagt.summary())"
   ]
  },
  {
   "cell_type": "markdown",
   "metadata": {},
   "source": [
    "#### Get the estimation results"
   ]
  },
  {
   "cell_type": "code",
   "execution_count": null,
   "metadata": {},
   "outputs": [],
   "source": []
  },
  {
   "cell_type": "markdown",
   "metadata": {},
   "source": [
    "How would you interpret $\\beta_1$?"
   ]
  },
  {
   "cell_type": "markdown",
   "metadata": {},
   "source": []
  },
  {
   "cell_type": "markdown",
   "metadata": {},
   "source": [
    "How would you interpret $\\beta_2$?"
   ]
  },
  {
   "cell_type": "markdown",
   "metadata": {},
   "source": []
  },
  {
   "cell_type": "markdown",
   "metadata": {},
   "source": [
    "#### Plot the time series of log housing investment (predicted vs actual)"
   ]
  },
  {
   "cell_type": "code",
   "execution_count": null,
   "metadata": {},
   "outputs": [],
   "source": []
  },
  {
   "cell_type": "markdown",
   "metadata": {},
   "source": [
    "***\n",
    "## References\n",
    "\n",
    "- Jeffrey M. Wooldridge (2019). \"Introductory Econometrics: A Modern Approach, 7e\" Chapter 10.\n",
    "\n",
    "- The pandas development team (2020). \"[pandas-dev/pandas: Pandas](https://pandas.pydata.org/).\" Zenodo.\n",
    "\n",
    "- Seabold, Skipper, and Josef Perktold (2010). \"[statsmodels: Econometric and statistical modeling with python](https://www.statsmodels.org/stable/examples/notebooks/generated/ols.html).\" Proceedings of the 9th Python in Science Conference."
   ]
  }
 ],
 "metadata": {
  "kernelspec": {
   "display_name": "Python 3",
   "language": "python",
   "name": "python3"
  },
  "language_info": {
   "codemirror_mode": {
    "name": "ipython",
    "version": 3
   },
   "file_extension": ".py",
   "mimetype": "text/x-python",
   "name": "python",
   "nbconvert_exporter": "python",
   "pygments_lexer": "ipython3",
   "version": "3.13.1"
  }
 },
 "nbformat": 4,
 "nbformat_minor": 4
}
